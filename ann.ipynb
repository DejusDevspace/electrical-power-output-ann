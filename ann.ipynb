{
 "cells": [
  {
   "cell_type": "markdown",
   "metadata": {},
   "source": [
    "## Importing Libraries"
   ]
  },
  {
   "cell_type": "code",
   "execution_count": 18,
   "metadata": {},
   "outputs": [],
   "source": [
    "import pandas as pd\n",
    "import seaborn as sns\n",
    "from sklearn.model_selection import train_test_split\n",
    "from tensorflow.keras.models import Sequential\n",
    "from tensorflow.keras.layers import Dense"
   ]
  },
  {
   "cell_type": "markdown",
   "metadata": {},
   "source": [
    "## Importing the Dataset"
   ]
  },
  {
   "cell_type": "code",
   "execution_count": 7,
   "metadata": {},
   "outputs": [
    {
     "name": "stdout",
     "output_type": "stream",
     "text": [
      "(9568, 5)\n"
     ]
    },
    {
     "data": {
      "text/html": [
       "<div>\n",
       "<style scoped>\n",
       "    .dataframe tbody tr th:only-of-type {\n",
       "        vertical-align: middle;\n",
       "    }\n",
       "\n",
       "    .dataframe tbody tr th {\n",
       "        vertical-align: top;\n",
       "    }\n",
       "\n",
       "    .dataframe thead th {\n",
       "        text-align: right;\n",
       "    }\n",
       "</style>\n",
       "<table border=\"1\" class=\"dataframe\">\n",
       "  <thead>\n",
       "    <tr style=\"text-align: right;\">\n",
       "      <th></th>\n",
       "      <th>AT</th>\n",
       "      <th>V</th>\n",
       "      <th>AP</th>\n",
       "      <th>RH</th>\n",
       "      <th>PE</th>\n",
       "    </tr>\n",
       "  </thead>\n",
       "  <tbody>\n",
       "    <tr>\n",
       "      <th>0</th>\n",
       "      <td>14.96</td>\n",
       "      <td>41.76</td>\n",
       "      <td>1024.07</td>\n",
       "      <td>73.17</td>\n",
       "      <td>463.26</td>\n",
       "    </tr>\n",
       "    <tr>\n",
       "      <th>1</th>\n",
       "      <td>25.18</td>\n",
       "      <td>62.96</td>\n",
       "      <td>1020.04</td>\n",
       "      <td>59.08</td>\n",
       "      <td>444.37</td>\n",
       "    </tr>\n",
       "    <tr>\n",
       "      <th>2</th>\n",
       "      <td>5.11</td>\n",
       "      <td>39.40</td>\n",
       "      <td>1012.16</td>\n",
       "      <td>92.14</td>\n",
       "      <td>488.56</td>\n",
       "    </tr>\n",
       "    <tr>\n",
       "      <th>3</th>\n",
       "      <td>20.86</td>\n",
       "      <td>57.32</td>\n",
       "      <td>1010.24</td>\n",
       "      <td>76.64</td>\n",
       "      <td>446.48</td>\n",
       "    </tr>\n",
       "    <tr>\n",
       "      <th>4</th>\n",
       "      <td>10.82</td>\n",
       "      <td>37.50</td>\n",
       "      <td>1009.23</td>\n",
       "      <td>96.62</td>\n",
       "      <td>473.90</td>\n",
       "    </tr>\n",
       "  </tbody>\n",
       "</table>\n",
       "</div>"
      ],
      "text/plain": [
       "      AT      V       AP     RH      PE\n",
       "0  14.96  41.76  1024.07  73.17  463.26\n",
       "1  25.18  62.96  1020.04  59.08  444.37\n",
       "2   5.11  39.40  1012.16  92.14  488.56\n",
       "3  20.86  57.32  1010.24  76.64  446.48\n",
       "4  10.82  37.50  1009.23  96.62  473.90"
      ]
     },
     "execution_count": 7,
     "metadata": {},
     "output_type": "execute_result"
    }
   ],
   "source": [
    "dataset = pd.read_excel('./dataset/Folds5x2_pp.xlsx')\n",
    "print(dataset.shape)\n",
    "dataset.head()"
   ]
  },
  {
   "cell_type": "code",
   "execution_count": 8,
   "metadata": {},
   "outputs": [],
   "source": [
    "X = dataset.iloc[:, :-1].values\n",
    "y = dataset.iloc[:, -1].values"
   ]
  },
  {
   "cell_type": "code",
   "execution_count": 9,
   "metadata": {},
   "outputs": [
    {
     "name": "stdout",
     "output_type": "stream",
     "text": [
      "[[  14.96   41.76 1024.07   73.17]\n",
      " [  25.18   62.96 1020.04   59.08]\n",
      " [   5.11   39.4  1012.16   92.14]\n",
      " ...\n",
      " [  31.32   74.33 1012.92   36.48]\n",
      " [  24.48   69.45 1013.86   62.39]\n",
      " [  21.6    62.52 1017.23   67.87]]\n",
      "[463.26 444.37 488.56 ... 429.57 435.74 453.28]\n"
     ]
    }
   ],
   "source": [
    "print(X)\n",
    "print(y)"
   ]
  },
  {
   "cell_type": "markdown",
   "metadata": {},
   "source": [
    "## Splitting the Dataset into Training and Test Sets"
   ]
  },
  {
   "cell_type": "code",
   "execution_count": 13,
   "metadata": {},
   "outputs": [],
   "source": [
    "X_train, X_test, y_train, y_test = train_test_split(X, y, test_size=0.2, random_state=42)"
   ]
  },
  {
   "cell_type": "markdown",
   "metadata": {},
   "source": [
    "# Building the Artificial Neural Network (ANN)"
   ]
  },
  {
   "cell_type": "code",
   "execution_count": 11,
   "metadata": {},
   "outputs": [],
   "source": [
    "# Creating an instance of the model\n",
    "model = Sequential()"
   ]
  },
  {
   "cell_type": "code",
   "execution_count": 12,
   "metadata": {},
   "outputs": [],
   "source": [
    "# Adding the input layer and first hidden layer\n",
    "model.add(Dense(units=6, activation='relu')) # Dense (fully connected) layer"
   ]
  },
  {
   "cell_type": "code",
   "execution_count": 14,
   "metadata": {},
   "outputs": [],
   "source": [
    "# Adding a second hidden layer\n",
    "model.add(Dense(units=6, activation='relu'))"
   ]
  },
  {
   "cell_type": "code",
   "execution_count": 15,
   "metadata": {},
   "outputs": [],
   "source": [
    "# Adding the output layer\n",
    "model.add(Dense(units=1))"
   ]
  },
  {
   "cell_type": "markdown",
   "metadata": {},
   "source": [
    "## Training the ANN"
   ]
  },
  {
   "cell_type": "code",
   "execution_count": 16,
   "metadata": {},
   "outputs": [],
   "source": [
    "# Compiling the ANN\n",
    "model.compile(optimizer='adam', loss='mean_squared_error')"
   ]
  },
  {
   "cell_type": "code",
   "execution_count": 17,
   "metadata": {},
   "outputs": [
    {
     "name": "stdout",
     "output_type": "stream",
     "text": [
      "Epoch 1/100\n",
      "240/240 [==============================] - 3s 2ms/step - loss: 36816.0625\n",
      "Epoch 2/100\n",
      "240/240 [==============================] - 0s 2ms/step - loss: 609.0449\n",
      "Epoch 3/100\n",
      "240/240 [==============================] - 0s 2ms/step - loss: 493.1042\n",
      "Epoch 4/100\n",
      "240/240 [==============================] - 0s 2ms/step - loss: 423.7119\n",
      "Epoch 5/100\n",
      "240/240 [==============================] - 0s 2ms/step - loss: 381.4461\n",
      "Epoch 6/100\n",
      "240/240 [==============================] - 0s 2ms/step - loss: 338.9626\n",
      "Epoch 7/100\n",
      "240/240 [==============================] - 0s 2ms/step - loss: 296.5783\n",
      "Epoch 8/100\n",
      "240/240 [==============================] - 0s 2ms/step - loss: 255.3268\n",
      "Epoch 9/100\n",
      "240/240 [==============================] - 0s 2ms/step - loss: 215.8296\n",
      "Epoch 10/100\n",
      "240/240 [==============================] - 0s 2ms/step - loss: 181.8780\n",
      "Epoch 11/100\n",
      "240/240 [==============================] - 0s 2ms/step - loss: 152.6318\n",
      "Epoch 12/100\n",
      "240/240 [==============================] - 0s 2ms/step - loss: 128.8293\n",
      "Epoch 13/100\n",
      "240/240 [==============================] - 0s 2ms/step - loss: 110.7481\n",
      "Epoch 14/100\n",
      "240/240 [==============================] - 0s 2ms/step - loss: 96.1381\n",
      "Epoch 15/100\n",
      "240/240 [==============================] - 0s 2ms/step - loss: 84.9869\n",
      "Epoch 16/100\n",
      "240/240 [==============================] - 1s 2ms/step - loss: 75.5779\n",
      "Epoch 17/100\n",
      "240/240 [==============================] - 0s 2ms/step - loss: 68.1812\n",
      "Epoch 18/100\n",
      "240/240 [==============================] - 0s 2ms/step - loss: 61.1009\n",
      "Epoch 19/100\n",
      "240/240 [==============================] - 0s 2ms/step - loss: 55.4363\n",
      "Epoch 20/100\n",
      "240/240 [==============================] - 0s 2ms/step - loss: 50.5854\n",
      "Epoch 21/100\n",
      "240/240 [==============================] - 0s 2ms/step - loss: 46.8535\n",
      "Epoch 22/100\n",
      "240/240 [==============================] - 0s 2ms/step - loss: 43.6419\n",
      "Epoch 23/100\n",
      "240/240 [==============================] - 0s 2ms/step - loss: 41.1319\n",
      "Epoch 24/100\n",
      "240/240 [==============================] - 0s 2ms/step - loss: 38.6924\n",
      "Epoch 25/100\n",
      "240/240 [==============================] - 0s 2ms/step - loss: 37.3146\n",
      "Epoch 26/100\n",
      "240/240 [==============================] - 0s 2ms/step - loss: 35.2939\n",
      "Epoch 27/100\n",
      "240/240 [==============================] - 0s 2ms/step - loss: 34.2329\n",
      "Epoch 28/100\n",
      "240/240 [==============================] - 0s 2ms/step - loss: 33.0890\n",
      "Epoch 29/100\n",
      "240/240 [==============================] - 0s 2ms/step - loss: 32.2654\n",
      "Epoch 30/100\n",
      "240/240 [==============================] - 0s 2ms/step - loss: 30.9543\n",
      "Epoch 31/100\n",
      "240/240 [==============================] - 0s 2ms/step - loss: 30.2461\n",
      "Epoch 32/100\n",
      "240/240 [==============================] - 0s 2ms/step - loss: 28.9804\n",
      "Epoch 33/100\n",
      "240/240 [==============================] - 0s 2ms/step - loss: 29.1854\n",
      "Epoch 34/100\n",
      "240/240 [==============================] - 0s 2ms/step - loss: 28.3188\n",
      "Epoch 35/100\n",
      "240/240 [==============================] - 0s 2ms/step - loss: 27.7215\n",
      "Epoch 36/100\n",
      "240/240 [==============================] - 0s 2ms/step - loss: 27.6749\n",
      "Epoch 37/100\n",
      "240/240 [==============================] - 0s 2ms/step - loss: 27.1394\n",
      "Epoch 38/100\n",
      "240/240 [==============================] - 0s 2ms/step - loss: 27.1602\n",
      "Epoch 39/100\n",
      "240/240 [==============================] - 0s 2ms/step - loss: 27.6095\n",
      "Epoch 40/100\n",
      "240/240 [==============================] - 0s 2ms/step - loss: 27.1665\n",
      "Epoch 41/100\n",
      "240/240 [==============================] - 0s 2ms/step - loss: 27.0952\n",
      "Epoch 42/100\n",
      "240/240 [==============================] - 0s 2ms/step - loss: 27.1165\n",
      "Epoch 43/100\n",
      "240/240 [==============================] - 0s 2ms/step - loss: 27.3847\n",
      "Epoch 44/100\n",
      "240/240 [==============================] - 0s 2ms/step - loss: 26.6900\n",
      "Epoch 45/100\n",
      "240/240 [==============================] - 0s 2ms/step - loss: 26.6695\n",
      "Epoch 46/100\n",
      "240/240 [==============================] - 0s 2ms/step - loss: 27.2065\n",
      "Epoch 47/100\n",
      "240/240 [==============================] - 0s 2ms/step - loss: 27.6204\n",
      "Epoch 48/100\n",
      "240/240 [==============================] - 0s 2ms/step - loss: 26.8466\n",
      "Epoch 49/100\n",
      "240/240 [==============================] - 0s 2ms/step - loss: 26.5255\n",
      "Epoch 50/100\n",
      "240/240 [==============================] - 0s 2ms/step - loss: 26.5737\n",
      "Epoch 51/100\n",
      "240/240 [==============================] - 0s 2ms/step - loss: 26.3992\n",
      "Epoch 52/100\n",
      "240/240 [==============================] - 0s 2ms/step - loss: 26.9627\n",
      "Epoch 53/100\n",
      "240/240 [==============================] - 0s 2ms/step - loss: 26.8610\n",
      "Epoch 54/100\n",
      "240/240 [==============================] - 0s 2ms/step - loss: 26.2410\n",
      "Epoch 55/100\n",
      "240/240 [==============================] - 0s 2ms/step - loss: 26.7015\n",
      "Epoch 56/100\n",
      "240/240 [==============================] - 0s 2ms/step - loss: 26.8569\n",
      "Epoch 57/100\n",
      "240/240 [==============================] - 0s 2ms/step - loss: 26.6564\n",
      "Epoch 58/100\n",
      "240/240 [==============================] - 0s 2ms/step - loss: 27.3091\n",
      "Epoch 59/100\n",
      "240/240 [==============================] - 0s 2ms/step - loss: 26.7863\n",
      "Epoch 60/100\n",
      "240/240 [==============================] - 0s 2ms/step - loss: 26.9095\n",
      "Epoch 61/100\n",
      "240/240 [==============================] - 0s 2ms/step - loss: 27.2060\n",
      "Epoch 62/100\n",
      "240/240 [==============================] - 0s 2ms/step - loss: 26.4458\n",
      "Epoch 63/100\n",
      "240/240 [==============================] - 0s 2ms/step - loss: 26.5931\n",
      "Epoch 64/100\n",
      "240/240 [==============================] - 0s 2ms/step - loss: 27.2905\n",
      "Epoch 65/100\n",
      "240/240 [==============================] - 0s 2ms/step - loss: 27.3375\n",
      "Epoch 66/100\n",
      "240/240 [==============================] - 0s 2ms/step - loss: 26.7123\n",
      "Epoch 67/100\n",
      "240/240 [==============================] - 0s 2ms/step - loss: 26.8390\n",
      "Epoch 68/100\n",
      "240/240 [==============================] - 0s 2ms/step - loss: 26.9630\n",
      "Epoch 69/100\n",
      "240/240 [==============================] - 0s 2ms/step - loss: 26.7284\n",
      "Epoch 70/100\n",
      "240/240 [==============================] - 0s 2ms/step - loss: 27.0377\n",
      "Epoch 71/100\n",
      "240/240 [==============================] - 0s 2ms/step - loss: 26.5615\n",
      "Epoch 72/100\n",
      "240/240 [==============================] - 0s 2ms/step - loss: 26.7849\n",
      "Epoch 73/100\n",
      "240/240 [==============================] - 1s 2ms/step - loss: 26.8116\n",
      "Epoch 74/100\n",
      "240/240 [==============================] - 0s 2ms/step - loss: 27.2438\n",
      "Epoch 75/100\n",
      "240/240 [==============================] - 0s 2ms/step - loss: 26.9381\n",
      "Epoch 76/100\n",
      "240/240 [==============================] - 0s 2ms/step - loss: 27.0180\n",
      "Epoch 77/100\n",
      "240/240 [==============================] - 1s 3ms/step - loss: 26.6372\n",
      "Epoch 78/100\n",
      "240/240 [==============================] - 1s 3ms/step - loss: 27.0302\n",
      "Epoch 79/100\n",
      "240/240 [==============================] - 1s 3ms/step - loss: 27.0550\n",
      "Epoch 80/100\n",
      "240/240 [==============================] - 1s 3ms/step - loss: 26.3995\n",
      "Epoch 81/100\n",
      "240/240 [==============================] - 1s 2ms/step - loss: 26.9171\n",
      "Epoch 82/100\n",
      "240/240 [==============================] - 1s 2ms/step - loss: 27.0692\n",
      "Epoch 83/100\n",
      "240/240 [==============================] - 1s 2ms/step - loss: 26.6216\n",
      "Epoch 84/100\n",
      "240/240 [==============================] - 1s 2ms/step - loss: 26.3874\n",
      "Epoch 85/100\n",
      "240/240 [==============================] - 0s 2ms/step - loss: 26.9288\n",
      "Epoch 86/100\n",
      "240/240 [==============================] - 0s 2ms/step - loss: 26.7386\n",
      "Epoch 87/100\n",
      "240/240 [==============================] - 1s 3ms/step - loss: 27.1086\n",
      "Epoch 88/100\n",
      "240/240 [==============================] - 1s 3ms/step - loss: 27.1431\n",
      "Epoch 89/100\n",
      "240/240 [==============================] - 0s 2ms/step - loss: 26.8813\n",
      "Epoch 90/100\n",
      "240/240 [==============================] - 1s 2ms/step - loss: 27.7095\n",
      "Epoch 91/100\n",
      "240/240 [==============================] - 0s 2ms/step - loss: 26.6289\n",
      "Epoch 92/100\n",
      "240/240 [==============================] - 0s 2ms/step - loss: 26.2691\n",
      "Epoch 93/100\n",
      "240/240 [==============================] - 0s 2ms/step - loss: 26.6584\n",
      "Epoch 94/100\n",
      "240/240 [==============================] - 0s 2ms/step - loss: 26.8445\n",
      "Epoch 95/100\n",
      "240/240 [==============================] - 1s 2ms/step - loss: 27.0544\n",
      "Epoch 96/100\n",
      "240/240 [==============================] - 0s 2ms/step - loss: 26.6633\n",
      "Epoch 97/100\n",
      "240/240 [==============================] - 1s 2ms/step - loss: 26.3176\n",
      "Epoch 98/100\n",
      "240/240 [==============================] - 1s 2ms/step - loss: 25.9009\n",
      "Epoch 99/100\n",
      "240/240 [==============================] - 1s 2ms/step - loss: 25.4495\n",
      "Epoch 100/100\n",
      "240/240 [==============================] - 1s 2ms/step - loss: 25.2109\n"
     ]
    },
    {
     "data": {
      "text/plain": [
       "<keras.callbacks.History at 0x1e633a94850>"
      ]
     },
     "execution_count": 17,
     "metadata": {},
     "output_type": "execute_result"
    }
   ],
   "source": [
    "# Training the ANN on the training set\n",
    "model.fit(X_train, y_train, batch_size=32, epochs=100)"
   ]
  },
  {
   "cell_type": "markdown",
   "metadata": {},
   "source": [
    "## Making Predictions of the Test Set"
   ]
  },
  {
   "cell_type": "code",
   "execution_count": 19,
   "metadata": {},
   "outputs": [
    {
     "name": "stdout",
     "output_type": "stream",
     "text": [
      "60/60 [==============================] - 0s 1ms/step\n"
     ]
    }
   ],
   "source": [
    "y_pred_test = model.predict(X_test)"
   ]
  },
  {
   "cell_type": "code",
   "execution_count": 23,
   "metadata": {},
   "outputs": [
    {
     "name": "stdout",
     "output_type": "stream",
     "text": [
      "Model Accuracy: 91.22%\n"
     ]
    }
   ],
   "source": [
    "from sklearn.metrics import r2_score\n",
    "\n",
    "accuracy = r2_score(y_test, y_pred_test) # R-squared\n",
    "print('Model Accuracy: {:.2f}%'.format(accuracy * 100))"
   ]
  }
 ],
 "metadata": {
  "kernelspec": {
   "display_name": "devspace",
   "language": "python",
   "name": "python3"
  },
  "language_info": {
   "codemirror_mode": {
    "name": "ipython",
    "version": 3
   },
   "file_extension": ".py",
   "mimetype": "text/x-python",
   "name": "python",
   "nbconvert_exporter": "python",
   "pygments_lexer": "ipython3",
   "version": "3.9.0"
  }
 },
 "nbformat": 4,
 "nbformat_minor": 2
}
